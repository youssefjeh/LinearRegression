{
  "cells": [
    {
      "cell_type": "code",
      "execution_count": null,
      "id": "567ac018",
      "metadata": {
        "id": "567ac018"
      },
      "outputs": [],
      "source": [
        "import numpy as np\n",
        "from sklearn.datasets import make_regression\n",
        "import matplotlib.pyplot as plt"
      ]
    },
    {
      "cell_type": "markdown",
      "id": "33d2e990",
      "metadata": {
        "id": "33d2e990"
      },
      "source": [
        "### 1.Dataset"
      ]
    },
    {
      "cell_type": "code",
      "execution_count": null,
      "id": "4c646981",
      "metadata": {
        "id": "4c646981",
        "outputId": "d23d5612-cdba-430a-b1be-67ae4a88e4b0"
      },
      "outputs": [
        {
          "data": {
            "text/plain": [
              "<matplotlib.collections.PathCollection at 0x25ce3a9dc40>"
            ]
          },
          "execution_count": 44,
          "metadata": {},
          "output_type": "execute_result"
        },
        {
          "data": {
            "image/png": "[encoded data removed]",
            "text/plain": [
              "<Figure size 432x288 with 1 Axes>"
            ]
          },
          "metadata": {
            "needs_background": "light"
          },
          "output_type": "display_data"
        }
      ],
      "source": [
        "x,y = make_regression(n_samples=100,n_features=2,noise=10)\n",
        "plt.scatter(x[:,0],y)"
      ]
    },
    {
      "cell_type": "code",
      "execution_count": null,
      "id": "77df851d",
      "metadata": {
        "id": "77df851d",
        "outputId": "a74f62c6-06d7-4066-8d26-ecc505b45850"
      },
      "outputs": [
        {
          "name": "stdout",
          "output_type": "stream",
          "text": [
            "(100, 2)\n",
            "(100, 1)\n"
          ]
        }
      ],
      "source": [
        "print(x.shape)\n",
        "y=y.reshape(y.shape[0],1)\n",
        "print(y.shape)"
      ]
    },
    {
      "cell_type": "code",
      "execution_count": null,
      "id": "330f07c5",
      "metadata": {
        "id": "330f07c5",
        "outputId": "466d2600-3985-4d2c-8e01-a88d9e0a4bee"
      },
      "outputs": [
        {
          "data": {
            "text/plain": [
              "array([[-0.37778916, -1.23804103,  1.        ],\n",
              "       [ 1.10171216,  0.90186612,  1.        ],\n",
              "       [-1.24529737,  0.34639758,  1.        ],\n",
              "       [ 0.98247589, -0.50476673,  1.        ],\n",
              "       [ 1.75186426,  0.38317114,  1.        ],\n",
              "       [-1.3353484 ,  0.80914596,  1.        ],\n",
              "       [-0.12731449, -0.62635763,  1.        ],\n",
              "       [ 1.53583941, -0.88641306,  1.        ],\n",
              "       [ 0.34922837,  1.34441633,  1.        ],\n",
              "       [-0.48437924, -0.51780678,  1.        ]])"
            ]
          },
          "execution_count": 63,
          "metadata": {},
          "output_type": "execute_result"
        }
      ],
      "source": [
        "#matrice X\n",
        "X=np.hstack((x,np.ones((x.shape[0],1))))\n",
        "X.shape \n",
        "X[:10]"
      ]
    },
    {
      "cell_type": "code",
      "execution_count": null,
      "id": "1c705e42",
      "metadata": {
        "id": "1c705e42",
        "outputId": "d1c31d0f-063f-4900-9442-87ad58adccf0"
      },
      "outputs": [
        {
          "data": {
            "text/plain": [
              "array([[-0.75185654],\n",
              "       [ 0.4029458 ],\n",
              "       [ 1.01083062]])"
            ]
          },
          "execution_count": 64,
          "metadata": {},
          "output_type": "execute_result"
        }
      ],
      "source": [
        "theta=np.random.randn(3,1)\n",
        "theta"
      ]
    },
    {
      "cell_type": "markdown",
      "id": "5546ccbe",
      "metadata": {
        "id": "5546ccbe"
      },
      "source": [
        "### modele"
      ]
    },
    {
      "cell_type": "code",
      "execution_count": null,
      "id": "0e20e6b1",
      "metadata": {
        "id": "0e20e6b1"
      },
      "outputs": [],
      "source": [
        "def model(X,theta):\n",
        "    return X.dot(theta)"
      ]
    },
    {
      "cell_type": "code",
      "execution_count": null,
      "id": "c31c82c2",
      "metadata": {
        "id": "c31c82c2",
        "outputId": "e542c81b-183a-456b-98eb-7f3cfdf73851"
      },
      "outputs": [
        {
          "data": {
            "text/plain": [
              "<matplotlib.collections.PathCollection at 0x25ce3deb580>"
            ]
          },
          "execution_count": 69,
          "metadata": {},
          "output_type": "execute_result"
        },
        {
          "data": {
            "image/png": "[encoded data removed]",
            "text/plain": [
              "<Figure size 432x288 with 1 Axes>"
            ]
          },
          "metadata": {
            "needs_background": "light"
          },
          "output_type": "display_data"
        }
      ],
      "source": [
        "plt.scatter(x[:,0],y)\n",
        "plt.scatter(x[:,0],model(X,theta),c='r')\n"
      ]
    },
    {
      "cell_type": "markdown",
      "id": "44a7c558",
      "metadata": {
        "id": "44a7c558"
      },
      "source": [
        "### Fct coût"
      ]
    },
    {
      "cell_type": "code",
      "execution_count": null,
      "id": "1527441e",
      "metadata": {
        "id": "1527441e"
      },
      "outputs": [],
      "source": [
        "def cost_fct(X,y,theta):\n",
        "    m=len(y)\n",
        "    return 1/(2*m) *np.sum((model(X,theta)-y)**2)"
      ]
    },
    {
      "cell_type": "code",
      "execution_count": null,
      "id": "4eff0b11",
      "metadata": {
        "id": "4eff0b11",
        "outputId": "d41972c2-118d-4c8d-c8a7-cf0f4c4f2d7d"
      },
      "outputs": [
        {
          "data": {
            "text/plain": [
              "1418.5487536517985"
            ]
          },
          "execution_count": 71,
          "metadata": {},
          "output_type": "execute_result"
        }
      ],
      "source": [
        "cost_fct(X,y,theta)"
      ]
    },
    {
      "cell_type": "markdown",
      "id": "9eaa9bc1",
      "metadata": {
        "id": "9eaa9bc1"
      },
      "source": [
        "### Gradient & Descente de Grad"
      ]
    },
    {
      "cell_type": "code",
      "execution_count": null,
      "id": "4fb68ba0",
      "metadata": {
        "id": "4fb68ba0"
      },
      "outputs": [],
      "source": [
        "def grad(X,y,theta):\n",
        "     m=len(y)\n",
        "     return 1/m * X.T.dot(model(X,theta)-y)"
      ]
    },
    {
      "cell_type": "code",
      "execution_count": null,
      "id": "2a4d5c3c",
      "metadata": {
        "id": "2a4d5c3c"
      },
      "outputs": [],
      "source": [
        "def gradDes(X,y,theta,learning_rate,n_iter):\n",
        "    cost_history=np.zeros(n_iter)\n",
        "    for i in range (0,n_iter):\n",
        "        theta=theta-learning_rate * grad(X,y,theta)\n",
        "        cost_history[i]=cost_fct(X,y,theta)\n",
        "    return theta,cost_history"
      ]
    },
    {
      "cell_type": "markdown",
      "id": "2e46add8",
      "metadata": {
        "id": "2e46add8"
      },
      "source": [
        "### Machine Learning"
      ]
    },
    {
      "cell_type": "code",
      "execution_count": null,
      "id": "c432e7dd",
      "metadata": {
        "id": "c432e7dd"
      },
      "outputs": [],
      "source": [
        "theta_final,cost_history=gradDes(X,y,theta,learning_rate=0.01,n_iter=1000)"
      ]
    },
    {
      "cell_type": "code",
      "execution_count": null,
      "id": "ed11d26e",
      "metadata": {
        "id": "ed11d26e",
        "outputId": "1a9675b0-982e-400d-cb37-7d7d95b3cb49"
      },
      "outputs": [
        {
          "data": {
            "text/plain": [
              "array([[50.70279765],\n",
              "       [14.15248619],\n",
              "       [ 1.0076072 ]])"
            ]
          },
          "execution_count": 75,
          "metadata": {},
          "output_type": "execute_result"
        }
      ],
      "source": [
        "theta_final"
      ]
    },
    {
      "cell_type": "code",
      "execution_count": null,
      "id": "f30c0185",
      "metadata": {
        "id": "f30c0185",
        "outputId": "431be8de-74ef-42df-f5ac-a1a445509ee1"
      },
      "outputs": [
        {
          "data": {
            "text/plain": [
              "<matplotlib.collections.PathCollection at 0x25ce3fcfe50>"
            ]
          },
          "execution_count": 80,
          "metadata": {},
          "output_type": "execute_result"
        },
        {
          "data": {
            "image/png": "[encoded data removed]",
            "text/plain": [
              "<Figure size 432x288 with 1 Axes>"
            ]
          },
          "metadata": {
            "needs_background": "light"
          },
          "output_type": "display_data"
        }
      ],
      "source": [
        "prediction=model(X,theta_final)\n",
        "plt.scatter(x[:,1],y)\n",
        "plt.scatter(x[:,1],prediction,c='r')"
      ]
    },
    {
      "cell_type": "markdown",
      "id": "3d0101a0",
      "metadata": {
        "id": "3d0101a0"
      },
      "source": [
        "### courbe d'apprentissage"
      ]
    },
    {
      "cell_type": "code",
      "execution_count": null,
      "id": "e91f7309",
      "metadata": {
        "id": "e91f7309",
        "outputId": "796919ef-57a8-4028-9100-3a93e340a672"
      },
      "outputs": [
        {
          "data": {
            "text/plain": [
              "[<matplotlib.lines.Line2D at 0x25ce3d417f0>]"
            ]
          },
          "execution_count": 81,
          "metadata": {},
          "output_type": "execute_result"
        },
        {
          "data": {
            "image/png": "[encoded data removed]",
            "text/plain": [
              "<Figure size 432x288 with 1 Axes>"
            ]
          },
          "metadata": {
            "needs_background": "light"
          },
          "output_type": "display_data"
        }
      ],
      "source": [
        "plt.plot(range(1000),cost_history)"
      ]
    },
    {
      "cell_type": "markdown",
      "id": "fdd7aef9",
      "metadata": {
        "id": "fdd7aef9"
      },
      "source": [
        "### Le coef de determination"
      ]
    },
    {
      "cell_type": "code",
      "execution_count": null,
      "id": "89d44582",
      "metadata": {
        "id": "89d44582"
      },
      "outputs": [],
      "source": [
        "def coef_determination(y,pred):\n",
        "    u=((y-pred)**2).sum()\n",
        "    v=((y-y.mean())**2).sum()\n",
        "    return 1-u/v"
      ]
    },
    {
      "cell_type": "code",
      "execution_count": null,
      "id": "08039d06",
      "metadata": {
        "id": "08039d06",
        "outputId": "db305fad-a0ad-4605-a5db-0c7c329096e0"
      },
      "outputs": [
        {
          "data": {
            "text/plain": [
              "0.9724964355715824"
            ]
          },
          "execution_count": 83,
          "metadata": {},
          "output_type": "execute_result"
        }
      ],
      "source": [
        "coef_determination(y,prediction)"
      ]
    },
    {
      "cell_type": "code",
      "execution_count": null,
      "id": "32f5a924",
      "metadata": {
        "id": "32f5a924"
      },
      "outputs": [],
      "source": [
        ""
      ]
    }
  ],
  "metadata": {
    "kernelspec": {
      "display_name": "Python 3 (ipykernel)",
      "language": "python",
      "name": "python3"
    },
    "language_info": {
      "codemirror_mode": {
        "name": "ipython",
        "version": 3
      },
      "file_extension": ".py",
      "mimetype": "text/x-python",
      "name": "python",
      "nbconvert_exporter": "python",
      "pygments_lexer": "ipython3",
      "version": "3.9.7"
    },
    "colab": {
      "name": "RLM_YJH.ipynb",
      "provenance": [],
      "collapsed_sections": []
    }
  },
  "nbformat": 4,
  "nbformat_minor": 5
}